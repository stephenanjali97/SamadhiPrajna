{
 "cells": [
  {
   "cell_type": "markdown",
   "id": "b10e8d82-c3b8-4c95-a973-280acce07496",
   "metadata": {},
   "source": [
    "# Data Science Tools and Ecosystem"
   ]
  },
  {
   "cell_type": "markdown",
   "id": "e2a166ef-f8f7-4e64-b3db-41333965f7d6",
   "metadata": {},
   "source": [
    "In this notebook, Data Science Tools and Ecosystem are summarized."
   ]
  },
  {
   "cell_type": "markdown",
   "id": "63ac1b1a-e63a-4580-953e-840be1a46ec6",
   "metadata": {},
   "source": [
    "**Objectives:**\n",
    "- List popular languages for Data Science.\n",
    "- List commonly used libraries for Data Science.\n",
    "- List development environment open source tools for Data Science.\n",
    "- Evaluate arithmetic expressions in Python."
   ]
  },
  {
   "cell_type": "markdown",
   "id": "644cfb78-75d7-4dd7-8544-1efc3da632ac",
   "metadata": {},
   "source": [
    "Some of the popular languages that Data Scientists use are:\n",
    "1. Python\n",
    "2. R\n",
    "3. SQL\n",
    "4. Scala\n"
   ]
  },
  {
   "cell_type": "markdown",
   "id": "e5e6bcd4-c689-46f9-bad3-5eb2128f9be8",
   "metadata": {},
   "source": [
    "Some of the commonly used libraries used by Data Scientists include:\n",
    "1. Pandas\n",
    "2. NumPy\n",
    "3. Matplotlib\n",
    "4. Seaborn\n",
    "5. Scikit-learn\n",
    "6. Keras\n",
    "7. TensorFlow\n",
    "8. PyTorch\n",
    "9. Vegas\n",
    "10. Big DL\n",
    "11. ggplot2"
   ]
  },
  {
   "cell_type": "markdown",
   "id": "fac3f2d0-6506-41e6-881f-058c71c869ad",
   "metadata": {},
   "source": [
    "| Data Science Tools |\n",
    "----------------------\n",
    "| Jupyter |\n",
    "| Apache Zeppelin |\n",
    "| R Studio |"
   ]
  },
  {
   "cell_type": "markdown",
   "id": "694e3c4b-6916-4271-88f2-7e4774448493",
   "metadata": {},
   "source": [
    "### Below are a few examples of evaluating arithmetic expressions in Python"
   ]
  },
  {
   "cell_type": "code",
   "execution_count": 11,
   "id": "f70b8b43-f13f-433c-80e3-ad9248e96ab5",
   "metadata": {},
   "outputs": [
    {
     "data": {
      "text/plain": [
       "17"
      ]
     },
     "execution_count": 11,
     "metadata": {},
     "output_type": "execute_result"
    }
   ],
   "source": [
    "# This a simple arithmetic expression to mutiply then add integers.\n",
    "(3*4)+5"
   ]
  },
  {
   "cell_type": "code",
   "execution_count": 13,
   "id": "69d9fff4-2aa4-4821-8ae2-e22a23a87a93",
   "metadata": {},
   "outputs": [
    {
     "data": {
      "text/plain": [
       "3.3333333333333335"
      ]
     },
     "execution_count": 13,
     "metadata": {},
     "output_type": "execute_result"
    }
   ],
   "source": [
    "# This will convert 200 minutes to hours by diving by 60.\n",
    "200/60"
   ]
  },
  {
   "cell_type": "markdown",
   "id": "c0a79b3f-5ccb-4f5c-85e8-e07723a0a033",
   "metadata": {},
   "source": [
    "## Author\n",
    "Anjali Stephen"
   ]
  },
  {
   "cell_type": "code",
   "execution_count": null,
   "id": "73cc8529-3d16-4595-8d7c-37729e1dbf6f",
   "metadata": {},
   "outputs": [],
   "source": []
  }
 ],
 "metadata": {
  "kernelspec": {
   "display_name": "Python 3 (ipykernel)",
   "language": "python",
   "name": "python3"
  },
  "language_info": {
   "codemirror_mode": {
    "name": "ipython",
    "version": 3
   },
   "file_extension": ".py",
   "mimetype": "text/x-python",
   "name": "python",
   "nbconvert_exporter": "python",
   "pygments_lexer": "ipython3",
   "version": "3.12.4"
  }
 },
 "nbformat": 4,
 "nbformat_minor": 5
}
